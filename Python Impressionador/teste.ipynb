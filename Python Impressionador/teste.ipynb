{
 "cells": [
  {
   "cell_type": "code",
   "execution_count": 2,
   "metadata": {},
   "outputs": [
    {
     "name": "stdout",
     "output_type": "stream",
     "text": [
      "meu codigo no jupyter\n"
     ]
    }
   ],
   "source": [
    "print(\"meu codigo no jupyter\")"
   ]
  },
  {
   "cell_type": "code",
   "execution_count": 4,
   "metadata": {},
   "outputs": [],
   "source": [
    "lista = ['tv','celular','mouse','teclado','tablet']"
   ]
  },
  {
   "cell_type": "code",
   "execution_count": 10,
   "metadata": {},
   "outputs": [
    {
     "name": "stdout",
     "output_type": "stream",
     "text": [
      "tv\n",
      "celular\n",
      "mouse\n",
      "teclado\n",
      "tablet\n"
     ]
    }
   ],
   "source": [
    "for item in lista :\n",
    "    print(item)"
   ]
  },
  {
   "cell_type": "code",
   "execution_count": 11,
   "metadata": {},
   "outputs": [],
   "source": [
    "produtos = ['tv','celular','mouse','teclado','tablet']\n",
    "estoque = [100,150,100,120,80]"
   ]
  },
  {
   "cell_type": "code",
   "execution_count": 12,
   "metadata": {},
   "outputs": [
    {
     "name": "stdout",
     "output_type": "stream",
     "text": [
      "Quantidade em estoque é de: 100\n"
     ]
    }
   ],
   "source": [
    "i = produtos.index('tv')\n",
    "qtd_estoque = estoque[i]\n",
    "print('Quantidade em estoque é de: {}'.format(qtd_estoque))\n"
   ]
  },
  {
   "cell_type": "code",
   "execution_count": 21,
   "metadata": {},
   "outputs": [
    {
     "name": "stdout",
     "output_type": "stream",
     "text": [
      "Quantidade em estoque da tablet é de: 80\n"
     ]
    }
   ],
   "source": [
    "produto = input('Insira o nome do produto em letra minuscula')\n",
    "if produto in produtos:\n",
    "    i = produtos.index(produto)\n",
    "    qtd_est = estoque[i]\n",
    "    print('Quantidade em estoque da {} é de: {}'.format(produto,qtd_est))\n",
    "else:\n",
    "    print('{} não existe no estoque'.format(produto))"
   ]
  },
  {
   "cell_type": "code",
   "execution_count": 22,
   "metadata": {},
   "outputs": [
    {
     "name": "stdout",
     "output_type": "stream",
     "text": [
      "5\n"
     ]
    }
   ],
   "source": [
    "tamanho = len(produtos)\n",
    "print(tamanho)"
   ]
  },
  {
   "cell_type": "code",
   "execution_count": 26,
   "metadata": {},
   "outputs": [
    {
     "name": "stdout",
     "output_type": "stream",
     "text": [
      "produto com maior estoque é celular com 150 peças em estoque\n",
      "produto com menor estoque é tablet com 80 peças em estoque\n"
     ]
    }
   ],
   "source": [
    "maior = max(estoque)\n",
    "menor = min(estoque)\n",
    "\n",
    "j = estoque.index(maior)\n",
    "k = estoque.index(menor)\n",
    "\n",
    "maior_estoque = produtos[j]\n",
    "menor_estoque = produtos[k]\n",
    "\n",
    "print(\"produto com maior estoque é {} com {} peças em estoque\".format(maior_estoque, maior))\n",
    "print(\"produto com menor estoque é {} com {} peças em estoque\".format(menor_estoque, menor))\n"
   ]
  }
 ],
 "metadata": {
  "kernelspec": {
   "display_name": "Python 3",
   "language": "python",
   "name": "python3"
  },
  "language_info": {
   "codemirror_mode": {
    "name": "ipython",
    "version": 3
   },
   "file_extension": ".py",
   "mimetype": "text/x-python",
   "name": "python",
   "nbconvert_exporter": "python",
   "pygments_lexer": "ipython3",
   "version": "3.12.0"
  }
 },
 "nbformat": 4,
 "nbformat_minor": 2
}
